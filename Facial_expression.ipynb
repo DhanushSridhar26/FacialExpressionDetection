{
  "nbformat": 4,
  "nbformat_minor": 0,
  "metadata": {
    "colab": {
      "name": "Facial_expression.ipynb",
      "provenance": [],
      "mount_file_id": "1jPAfdA84Y-3W19qYme-f2gGJasg_BVk-",
      "authorship_tag": "ABX9TyNe91D3TpQOyUaQF2tl10gS",
      "include_colab_link": true
    },
    "kernelspec": {
      "name": "python3",
      "display_name": "Python 3"
    },
    "accelerator": "GPU"
  },
  "cells": [
    {
      "cell_type": "markdown",
      "metadata": {
        "id": "view-in-github",
        "colab_type": "text"
      },
      "source": [
        "<a href=\"https://colab.research.google.com/github/DhanushSridhar26/FacialExpressionDetection/blob/master/Facial_expression.ipynb\" target=\"_parent\"><img src=\"https://colab.research.google.com/assets/colab-badge.svg\" alt=\"Open In Colab\"/></a>"
      ]
    },
    {
      "cell_type": "markdown",
      "metadata": {
        "id": "4mmcBXKtbcs8",
        "colab_type": "text"
      },
      "source": [
        "**Importing \n",
        "Libraries**"
      ]
    },
    {
      "cell_type": "code",
      "metadata": {
        "id": "ZUZdMocB9xmK",
        "colab_type": "code",
        "colab": {}
      },
      "source": [
        "import pandas as pd\n",
        "import matplotlib.pyplot as plt\n",
        "import cv2\n",
        "import numpy as np\n",
        "from tensorflow.keras.models import Sequential\n",
        "from tensorflow.keras import utils\n",
        "from tensorflow.keras import layers\n",
        "from tensorflow import keras"
      ],
      "execution_count": null,
      "outputs": []
    },
    {
      "cell_type": "markdown",
      "metadata": {
        "id": "QMoT7lG1bm6j",
        "colab_type": "text"
      },
      "source": [
        "**Loading Dataframe**\n",
        "\n",
        "\n",
        "[Kaggle Data Set](https://www.kaggle.com/deadskull7/fer2013) Click to see\n",
        "\n"
      ]
    },
    {
      "cell_type": "code",
      "metadata": {
        "id": "9XXY0dNM-cQY",
        "colab_type": "code",
        "colab": {}
      },
      "source": [
        "df = pd.read_csv('/content/drive/My Drive/fer2013/fer2013.csv')"
      ],
      "execution_count": null,
      "outputs": []
    },
    {
      "cell_type": "code",
      "metadata": {
        "id": "Wfc_AHHLnlaO",
        "colab_type": "code",
        "colab": {}
      },
      "source": [
        "ker"
      ],
      "execution_count": null,
      "outputs": []
    },
    {
      "cell_type": "code",
      "metadata": {
        "id": "qssqyG3P-h5Z",
        "colab_type": "code",
        "colab": {
          "base_uri": "https://localhost:8080/",
          "height": 639
        },
        "outputId": "31042637-d749-4182-c9c3-4217a21f32a0"
      },
      "source": [
        "new_df = []\n",
        "new_df.append(str(df['pixels'][0]).split(\" \"))\n",
        "new_df\n",
        "df.head(20)"
      ],
      "execution_count": null,
      "outputs": [
        {
          "output_type": "execute_result",
          "data": {
            "text/html": [
              "<div>\n",
              "<style scoped>\n",
              "    .dataframe tbody tr th:only-of-type {\n",
              "        vertical-align: middle;\n",
              "    }\n",
              "\n",
              "    .dataframe tbody tr th {\n",
              "        vertical-align: top;\n",
              "    }\n",
              "\n",
              "    .dataframe thead th {\n",
              "        text-align: right;\n",
              "    }\n",
              "</style>\n",
              "<table border=\"1\" class=\"dataframe\">\n",
              "  <thead>\n",
              "    <tr style=\"text-align: right;\">\n",
              "      <th></th>\n",
              "      <th>emotion</th>\n",
              "      <th>pixels</th>\n",
              "      <th>Usage</th>\n",
              "    </tr>\n",
              "  </thead>\n",
              "  <tbody>\n",
              "    <tr>\n",
              "      <th>0</th>\n",
              "      <td>0</td>\n",
              "      <td>70 80 82 72 58 58 60 63 54 58 60 48 89 115 121...</td>\n",
              "      <td>Training</td>\n",
              "    </tr>\n",
              "    <tr>\n",
              "      <th>1</th>\n",
              "      <td>0</td>\n",
              "      <td>151 150 147 155 148 133 111 140 170 174 182 15...</td>\n",
              "      <td>Training</td>\n",
              "    </tr>\n",
              "    <tr>\n",
              "      <th>2</th>\n",
              "      <td>2</td>\n",
              "      <td>231 212 156 164 174 138 161 173 182 200 106 38...</td>\n",
              "      <td>Training</td>\n",
              "    </tr>\n",
              "    <tr>\n",
              "      <th>3</th>\n",
              "      <td>4</td>\n",
              "      <td>24 32 36 30 32 23 19 20 30 41 21 22 32 34 21 1...</td>\n",
              "      <td>Training</td>\n",
              "    </tr>\n",
              "    <tr>\n",
              "      <th>4</th>\n",
              "      <td>6</td>\n",
              "      <td>4 0 0 0 0 0 0 0 0 0 0 0 3 15 23 28 48 50 58 84...</td>\n",
              "      <td>Training</td>\n",
              "    </tr>\n",
              "    <tr>\n",
              "      <th>5</th>\n",
              "      <td>2</td>\n",
              "      <td>55 55 55 55 55 54 60 68 54 85 151 163 170 179 ...</td>\n",
              "      <td>Training</td>\n",
              "    </tr>\n",
              "    <tr>\n",
              "      <th>6</th>\n",
              "      <td>4</td>\n",
              "      <td>20 17 19 21 25 38 42 42 46 54 56 62 63 66 82 1...</td>\n",
              "      <td>Training</td>\n",
              "    </tr>\n",
              "    <tr>\n",
              "      <th>7</th>\n",
              "      <td>3</td>\n",
              "      <td>77 78 79 79 78 75 60 55 47 48 58 73 77 79 57 5...</td>\n",
              "      <td>Training</td>\n",
              "    </tr>\n",
              "    <tr>\n",
              "      <th>8</th>\n",
              "      <td>3</td>\n",
              "      <td>85 84 90 121 101 102 133 153 153 169 177 189 1...</td>\n",
              "      <td>Training</td>\n",
              "    </tr>\n",
              "    <tr>\n",
              "      <th>9</th>\n",
              "      <td>2</td>\n",
              "      <td>255 254 255 254 254 179 122 107 95 124 149 150...</td>\n",
              "      <td>Training</td>\n",
              "    </tr>\n",
              "    <tr>\n",
              "      <th>10</th>\n",
              "      <td>0</td>\n",
              "      <td>30 24 21 23 25 25 49 67 84 103 120 125 130 139...</td>\n",
              "      <td>Training</td>\n",
              "    </tr>\n",
              "    <tr>\n",
              "      <th>11</th>\n",
              "      <td>6</td>\n",
              "      <td>39 75 78 58 58 45 49 48 103 156 81 45 41 38 49...</td>\n",
              "      <td>Training</td>\n",
              "    </tr>\n",
              "    <tr>\n",
              "      <th>12</th>\n",
              "      <td>6</td>\n",
              "      <td>219 213 206 202 209 217 216 215 219 218 223 23...</td>\n",
              "      <td>Training</td>\n",
              "    </tr>\n",
              "    <tr>\n",
              "      <th>13</th>\n",
              "      <td>6</td>\n",
              "      <td>148 144 130 129 119 122 129 131 139 153 140 12...</td>\n",
              "      <td>Training</td>\n",
              "    </tr>\n",
              "    <tr>\n",
              "      <th>14</th>\n",
              "      <td>3</td>\n",
              "      <td>4 2 13 41 56 62 67 87 95 62 65 70 80 107 127 1...</td>\n",
              "      <td>Training</td>\n",
              "    </tr>\n",
              "    <tr>\n",
              "      <th>15</th>\n",
              "      <td>5</td>\n",
              "      <td>107 107 109 109 109 109 110 101 123 140 144 14...</td>\n",
              "      <td>Training</td>\n",
              "    </tr>\n",
              "    <tr>\n",
              "      <th>16</th>\n",
              "      <td>3</td>\n",
              "      <td>14 14 18 28 27 22 21 30 42 61 77 86 88 95 100 ...</td>\n",
              "      <td>Training</td>\n",
              "    </tr>\n",
              "    <tr>\n",
              "      <th>17</th>\n",
              "      <td>2</td>\n",
              "      <td>255 255 255 255 255 255 255 255 255 255 255 25...</td>\n",
              "      <td>Training</td>\n",
              "    </tr>\n",
              "    <tr>\n",
              "      <th>18</th>\n",
              "      <td>6</td>\n",
              "      <td>134 124 167 180 197 194 203 210 204 203 209 20...</td>\n",
              "      <td>Training</td>\n",
              "    </tr>\n",
              "    <tr>\n",
              "      <th>19</th>\n",
              "      <td>4</td>\n",
              "      <td>219 192 179 148 208 254 192 98 121 103 145 185...</td>\n",
              "      <td>Training</td>\n",
              "    </tr>\n",
              "  </tbody>\n",
              "</table>\n",
              "</div>"
            ],
            "text/plain": [
              "    emotion                                             pixels     Usage\n",
              "0         0  70 80 82 72 58 58 60 63 54 58 60 48 89 115 121...  Training\n",
              "1         0  151 150 147 155 148 133 111 140 170 174 182 15...  Training\n",
              "2         2  231 212 156 164 174 138 161 173 182 200 106 38...  Training\n",
              "3         4  24 32 36 30 32 23 19 20 30 41 21 22 32 34 21 1...  Training\n",
              "4         6  4 0 0 0 0 0 0 0 0 0 0 0 3 15 23 28 48 50 58 84...  Training\n",
              "5         2  55 55 55 55 55 54 60 68 54 85 151 163 170 179 ...  Training\n",
              "6         4  20 17 19 21 25 38 42 42 46 54 56 62 63 66 82 1...  Training\n",
              "7         3  77 78 79 79 78 75 60 55 47 48 58 73 77 79 57 5...  Training\n",
              "8         3  85 84 90 121 101 102 133 153 153 169 177 189 1...  Training\n",
              "9         2  255 254 255 254 254 179 122 107 95 124 149 150...  Training\n",
              "10        0  30 24 21 23 25 25 49 67 84 103 120 125 130 139...  Training\n",
              "11        6  39 75 78 58 58 45 49 48 103 156 81 45 41 38 49...  Training\n",
              "12        6  219 213 206 202 209 217 216 215 219 218 223 23...  Training\n",
              "13        6  148 144 130 129 119 122 129 131 139 153 140 12...  Training\n",
              "14        3  4 2 13 41 56 62 67 87 95 62 65 70 80 107 127 1...  Training\n",
              "15        5  107 107 109 109 109 109 110 101 123 140 144 14...  Training\n",
              "16        3  14 14 18 28 27 22 21 30 42 61 77 86 88 95 100 ...  Training\n",
              "17        2  255 255 255 255 255 255 255 255 255 255 255 25...  Training\n",
              "18        6  134 124 167 180 197 194 203 210 204 203 209 20...  Training\n",
              "19        4  219 192 179 148 208 254 192 98 121 103 145 185...  Training"
            ]
          },
          "metadata": {
            "tags": []
          },
          "execution_count": 49
        }
      ]
    },
    {
      "cell_type": "code",
      "metadata": {
        "id": "EQhe7zmVFdah",
        "colab_type": "code",
        "colab": {
          "base_uri": "https://localhost:8080/",
          "height": 34
        },
        "outputId": "6830596e-6fb4-4812-e5b1-5c97b6c6c4e2"
      },
      "source": [
        "df['Usage'].unique()"
      ],
      "execution_count": null,
      "outputs": [
        {
          "output_type": "execute_result",
          "data": {
            "text/plain": [
              "array(['Training', 'PublicTest', 'PrivateTest'], dtype=object)"
            ]
          },
          "metadata": {
            "tags": []
          },
          "execution_count": 7
        }
      ]
    },
    {
      "cell_type": "code",
      "metadata": {
        "id": "kbRwUDOyB09g",
        "colab_type": "code",
        "colab": {
          "base_uri": "https://localhost:8080/",
          "height": 34
        },
        "outputId": "09ac5045-7b2d-435f-eadb-2cc8d2f681bc"
      },
      "source": [
        "new_df.append(str(df['pixels'][2]).split(\" \"))\n",
        "len(new_df)"
      ],
      "execution_count": null,
      "outputs": [
        {
          "output_type": "execute_result",
          "data": {
            "text/plain": [
              "2"
            ]
          },
          "metadata": {
            "tags": []
          },
          "execution_count": 8
        }
      ]
    },
    {
      "cell_type": "code",
      "metadata": {
        "id": "1Ji49ZWY-ivt",
        "colab_type": "code",
        "colab": {
          "base_uri": "https://localhost:8080/",
          "height": 155
        },
        "outputId": "f03f368e-2cc5-48af-954a-8b102f005165"
      },
      "source": [
        "pd.DataFrame(new_df)"
      ],
      "execution_count": null,
      "outputs": [
        {
          "output_type": "execute_result",
          "data": {
            "text/html": [
              "<div>\n",
              "<style scoped>\n",
              "    .dataframe tbody tr th:only-of-type {\n",
              "        vertical-align: middle;\n",
              "    }\n",
              "\n",
              "    .dataframe tbody tr th {\n",
              "        vertical-align: top;\n",
              "    }\n",
              "\n",
              "    .dataframe thead th {\n",
              "        text-align: right;\n",
              "    }\n",
              "</style>\n",
              "<table border=\"1\" class=\"dataframe\">\n",
              "  <thead>\n",
              "    <tr style=\"text-align: right;\">\n",
              "      <th></th>\n",
              "      <th>0</th>\n",
              "      <th>1</th>\n",
              "      <th>2</th>\n",
              "      <th>3</th>\n",
              "      <th>4</th>\n",
              "      <th>5</th>\n",
              "      <th>6</th>\n",
              "      <th>7</th>\n",
              "      <th>8</th>\n",
              "      <th>9</th>\n",
              "      <th>10</th>\n",
              "      <th>11</th>\n",
              "      <th>12</th>\n",
              "      <th>13</th>\n",
              "      <th>14</th>\n",
              "      <th>15</th>\n",
              "      <th>16</th>\n",
              "      <th>17</th>\n",
              "      <th>18</th>\n",
              "      <th>19</th>\n",
              "      <th>20</th>\n",
              "      <th>21</th>\n",
              "      <th>22</th>\n",
              "      <th>23</th>\n",
              "      <th>24</th>\n",
              "      <th>25</th>\n",
              "      <th>26</th>\n",
              "      <th>27</th>\n",
              "      <th>28</th>\n",
              "      <th>29</th>\n",
              "      <th>30</th>\n",
              "      <th>31</th>\n",
              "      <th>32</th>\n",
              "      <th>33</th>\n",
              "      <th>34</th>\n",
              "      <th>35</th>\n",
              "      <th>36</th>\n",
              "      <th>37</th>\n",
              "      <th>38</th>\n",
              "      <th>39</th>\n",
              "      <th>...</th>\n",
              "      <th>2264</th>\n",
              "      <th>2265</th>\n",
              "      <th>2266</th>\n",
              "      <th>2267</th>\n",
              "      <th>2268</th>\n",
              "      <th>2269</th>\n",
              "      <th>2270</th>\n",
              "      <th>2271</th>\n",
              "      <th>2272</th>\n",
              "      <th>2273</th>\n",
              "      <th>2274</th>\n",
              "      <th>2275</th>\n",
              "      <th>2276</th>\n",
              "      <th>2277</th>\n",
              "      <th>2278</th>\n",
              "      <th>2279</th>\n",
              "      <th>2280</th>\n",
              "      <th>2281</th>\n",
              "      <th>2282</th>\n",
              "      <th>2283</th>\n",
              "      <th>2284</th>\n",
              "      <th>2285</th>\n",
              "      <th>2286</th>\n",
              "      <th>2287</th>\n",
              "      <th>2288</th>\n",
              "      <th>2289</th>\n",
              "      <th>2290</th>\n",
              "      <th>2291</th>\n",
              "      <th>2292</th>\n",
              "      <th>2293</th>\n",
              "      <th>2294</th>\n",
              "      <th>2295</th>\n",
              "      <th>2296</th>\n",
              "      <th>2297</th>\n",
              "      <th>2298</th>\n",
              "      <th>2299</th>\n",
              "      <th>2300</th>\n",
              "      <th>2301</th>\n",
              "      <th>2302</th>\n",
              "      <th>2303</th>\n",
              "    </tr>\n",
              "  </thead>\n",
              "  <tbody>\n",
              "    <tr>\n",
              "      <th>0</th>\n",
              "      <td>70</td>\n",
              "      <td>80</td>\n",
              "      <td>82</td>\n",
              "      <td>72</td>\n",
              "      <td>58</td>\n",
              "      <td>58</td>\n",
              "      <td>60</td>\n",
              "      <td>63</td>\n",
              "      <td>54</td>\n",
              "      <td>58</td>\n",
              "      <td>60</td>\n",
              "      <td>48</td>\n",
              "      <td>89</td>\n",
              "      <td>115</td>\n",
              "      <td>121</td>\n",
              "      <td>119</td>\n",
              "      <td>115</td>\n",
              "      <td>110</td>\n",
              "      <td>98</td>\n",
              "      <td>91</td>\n",
              "      <td>84</td>\n",
              "      <td>84</td>\n",
              "      <td>90</td>\n",
              "      <td>99</td>\n",
              "      <td>110</td>\n",
              "      <td>126</td>\n",
              "      <td>143</td>\n",
              "      <td>153</td>\n",
              "      <td>158</td>\n",
              "      <td>171</td>\n",
              "      <td>169</td>\n",
              "      <td>172</td>\n",
              "      <td>169</td>\n",
              "      <td>165</td>\n",
              "      <td>129</td>\n",
              "      <td>110</td>\n",
              "      <td>113</td>\n",
              "      <td>107</td>\n",
              "      <td>95</td>\n",
              "      <td>79</td>\n",
              "      <td>...</td>\n",
              "      <td>20</td>\n",
              "      <td>31</td>\n",
              "      <td>40</td>\n",
              "      <td>46</td>\n",
              "      <td>65</td>\n",
              "      <td>88</td>\n",
              "      <td>108</td>\n",
              "      <td>110</td>\n",
              "      <td>125</td>\n",
              "      <td>149</td>\n",
              "      <td>157</td>\n",
              "      <td>153</td>\n",
              "      <td>162</td>\n",
              "      <td>164</td>\n",
              "      <td>158</td>\n",
              "      <td>159</td>\n",
              "      <td>154</td>\n",
              "      <td>140</td>\n",
              "      <td>78</td>\n",
              "      <td>21</td>\n",
              "      <td>11</td>\n",
              "      <td>61</td>\n",
              "      <td>144</td>\n",
              "      <td>168</td>\n",
              "      <td>173</td>\n",
              "      <td>157</td>\n",
              "      <td>138</td>\n",
              "      <td>150</td>\n",
              "      <td>148</td>\n",
              "      <td>132</td>\n",
              "      <td>159</td>\n",
              "      <td>182</td>\n",
              "      <td>183</td>\n",
              "      <td>136</td>\n",
              "      <td>106</td>\n",
              "      <td>116</td>\n",
              "      <td>95</td>\n",
              "      <td>106</td>\n",
              "      <td>109</td>\n",
              "      <td>82</td>\n",
              "    </tr>\n",
              "    <tr>\n",
              "      <th>1</th>\n",
              "      <td>231</td>\n",
              "      <td>212</td>\n",
              "      <td>156</td>\n",
              "      <td>164</td>\n",
              "      <td>174</td>\n",
              "      <td>138</td>\n",
              "      <td>161</td>\n",
              "      <td>173</td>\n",
              "      <td>182</td>\n",
              "      <td>200</td>\n",
              "      <td>106</td>\n",
              "      <td>38</td>\n",
              "      <td>39</td>\n",
              "      <td>74</td>\n",
              "      <td>138</td>\n",
              "      <td>161</td>\n",
              "      <td>164</td>\n",
              "      <td>179</td>\n",
              "      <td>190</td>\n",
              "      <td>201</td>\n",
              "      <td>210</td>\n",
              "      <td>216</td>\n",
              "      <td>220</td>\n",
              "      <td>224</td>\n",
              "      <td>222</td>\n",
              "      <td>218</td>\n",
              "      <td>216</td>\n",
              "      <td>213</td>\n",
              "      <td>217</td>\n",
              "      <td>220</td>\n",
              "      <td>220</td>\n",
              "      <td>218</td>\n",
              "      <td>217</td>\n",
              "      <td>212</td>\n",
              "      <td>174</td>\n",
              "      <td>160</td>\n",
              "      <td>162</td>\n",
              "      <td>160</td>\n",
              "      <td>139</td>\n",
              "      <td>135</td>\n",
              "      <td>...</td>\n",
              "      <td>225</td>\n",
              "      <td>220</td>\n",
              "      <td>215</td>\n",
              "      <td>207</td>\n",
              "      <td>199</td>\n",
              "      <td>167</td>\n",
              "      <td>108</td>\n",
              "      <td>151</td>\n",
              "      <td>122</td>\n",
              "      <td>88</td>\n",
              "      <td>71</td>\n",
              "      <td>84</td>\n",
              "      <td>120</td>\n",
              "      <td>127</td>\n",
              "      <td>105</td>\n",
              "      <td>76</td>\n",
              "      <td>71</td>\n",
              "      <td>78</td>\n",
              "      <td>90</td>\n",
              "      <td>106</td>\n",
              "      <td>123</td>\n",
              "      <td>146</td>\n",
              "      <td>155</td>\n",
              "      <td>148</td>\n",
              "      <td>130</td>\n",
              "      <td>141</td>\n",
              "      <td>119</td>\n",
              "      <td>69</td>\n",
              "      <td>54</td>\n",
              "      <td>89</td>\n",
              "      <td>104</td>\n",
              "      <td>138</td>\n",
              "      <td>152</td>\n",
              "      <td>122</td>\n",
              "      <td>114</td>\n",
              "      <td>101</td>\n",
              "      <td>97</td>\n",
              "      <td>88</td>\n",
              "      <td>110</td>\n",
              "      <td>152</td>\n",
              "    </tr>\n",
              "  </tbody>\n",
              "</table>\n",
              "<p>2 rows × 2304 columns</p>\n",
              "</div>"
            ],
            "text/plain": [
              "  0    1    2    3    4    5    6     ... 2297 2298 2299 2300 2301 2302 2303\n",
              "0   70   80   82   72   58   58   60  ...  136  106  116   95  106  109   82\n",
              "1  231  212  156  164  174  138  161  ...  122  114  101   97   88  110  152\n",
              "\n",
              "[2 rows x 2304 columns]"
            ]
          },
          "metadata": {
            "tags": []
          },
          "execution_count": 9
        }
      ]
    },
    {
      "cell_type": "code",
      "metadata": {
        "id": "4WodPbWQBYIy",
        "colab_type": "code",
        "colab": {
          "base_uri": "https://localhost:8080/",
          "height": 34
        },
        "outputId": "6f435561-d98b-40be-e846-4ca91f63c520"
      },
      "source": [
        "df['emotion'].unique()"
      ],
      "execution_count": null,
      "outputs": [
        {
          "output_type": "execute_result",
          "data": {
            "text/plain": [
              "array([0, 2, 4, 6, 3, 5, 1])"
            ]
          },
          "metadata": {
            "tags": []
          },
          "execution_count": 10
        }
      ]
    },
    {
      "cell_type": "markdown",
      "metadata": {
        "id": "NHH64D44cWC_",
        "colab_type": "text"
      },
      "source": [
        "**Pre-Processing**"
      ]
    },
    {
      "cell_type": "code",
      "metadata": {
        "id": "JuSXRuAi_Ljh",
        "colab_type": "code",
        "colab": {
          "base_uri": "https://localhost:8080/",
          "height": 34
        },
        "outputId": "9e31c755-1284-48cf-e642-59a3e896ec88"
      },
      "source": [
        "images_data = []\n",
        "max_len = 0\n",
        "for i in range(df.shape[0]):\n",
        "  k=df['pixels'][i].split(\" \")\n",
        "  k=[int(x) for x in k]\n",
        "  images_data.append(k)\n",
        "  t=len(images_data[i])\n",
        "  if t>max_len:\n",
        "    max_len=t\n",
        "print(max_len)\n",
        "images_df = pd.DataFrame(images_data)"
      ],
      "execution_count": null,
      "outputs": [
        {
          "output_type": "stream",
          "text": [
            "2304\n"
          ],
          "name": "stdout"
        }
      ]
    },
    {
      "cell_type": "code",
      "metadata": {
        "id": "WEb6FSzqD797",
        "colab_type": "code",
        "colab": {}
      },
      "source": [
        "images_df['class'] = df['emotion']"
      ],
      "execution_count": null,
      "outputs": []
    },
    {
      "cell_type": "code",
      "metadata": {
        "id": "1tgUOdWmFXZS",
        "colab_type": "code",
        "colab": {
          "base_uri": "https://localhost:8080/",
          "height": 244
        },
        "outputId": "4fc2c70e-d05c-497e-dbec-a68da407904d"
      },
      "source": [
        "images_df.head()"
      ],
      "execution_count": null,
      "outputs": [
        {
          "output_type": "execute_result",
          "data": {
            "text/html": [
              "<div>\n",
              "<style scoped>\n",
              "    .dataframe tbody tr th:only-of-type {\n",
              "        vertical-align: middle;\n",
              "    }\n",
              "\n",
              "    .dataframe tbody tr th {\n",
              "        vertical-align: top;\n",
              "    }\n",
              "\n",
              "    .dataframe thead th {\n",
              "        text-align: right;\n",
              "    }\n",
              "</style>\n",
              "<table border=\"1\" class=\"dataframe\">\n",
              "  <thead>\n",
              "    <tr style=\"text-align: right;\">\n",
              "      <th></th>\n",
              "      <th>0</th>\n",
              "      <th>1</th>\n",
              "      <th>2</th>\n",
              "      <th>3</th>\n",
              "      <th>4</th>\n",
              "      <th>5</th>\n",
              "      <th>6</th>\n",
              "      <th>7</th>\n",
              "      <th>8</th>\n",
              "      <th>9</th>\n",
              "      <th>10</th>\n",
              "      <th>11</th>\n",
              "      <th>12</th>\n",
              "      <th>13</th>\n",
              "      <th>14</th>\n",
              "      <th>15</th>\n",
              "      <th>16</th>\n",
              "      <th>17</th>\n",
              "      <th>18</th>\n",
              "      <th>19</th>\n",
              "      <th>20</th>\n",
              "      <th>21</th>\n",
              "      <th>22</th>\n",
              "      <th>23</th>\n",
              "      <th>24</th>\n",
              "      <th>25</th>\n",
              "      <th>26</th>\n",
              "      <th>27</th>\n",
              "      <th>28</th>\n",
              "      <th>29</th>\n",
              "      <th>30</th>\n",
              "      <th>31</th>\n",
              "      <th>32</th>\n",
              "      <th>33</th>\n",
              "      <th>34</th>\n",
              "      <th>35</th>\n",
              "      <th>36</th>\n",
              "      <th>37</th>\n",
              "      <th>38</th>\n",
              "      <th>39</th>\n",
              "      <th>...</th>\n",
              "      <th>2265</th>\n",
              "      <th>2266</th>\n",
              "      <th>2267</th>\n",
              "      <th>2268</th>\n",
              "      <th>2269</th>\n",
              "      <th>2270</th>\n",
              "      <th>2271</th>\n",
              "      <th>2272</th>\n",
              "      <th>2273</th>\n",
              "      <th>2274</th>\n",
              "      <th>2275</th>\n",
              "      <th>2276</th>\n",
              "      <th>2277</th>\n",
              "      <th>2278</th>\n",
              "      <th>2279</th>\n",
              "      <th>2280</th>\n",
              "      <th>2281</th>\n",
              "      <th>2282</th>\n",
              "      <th>2283</th>\n",
              "      <th>2284</th>\n",
              "      <th>2285</th>\n",
              "      <th>2286</th>\n",
              "      <th>2287</th>\n",
              "      <th>2288</th>\n",
              "      <th>2289</th>\n",
              "      <th>2290</th>\n",
              "      <th>2291</th>\n",
              "      <th>2292</th>\n",
              "      <th>2293</th>\n",
              "      <th>2294</th>\n",
              "      <th>2295</th>\n",
              "      <th>2296</th>\n",
              "      <th>2297</th>\n",
              "      <th>2298</th>\n",
              "      <th>2299</th>\n",
              "      <th>2300</th>\n",
              "      <th>2301</th>\n",
              "      <th>2302</th>\n",
              "      <th>2303</th>\n",
              "      <th>class</th>\n",
              "    </tr>\n",
              "  </thead>\n",
              "  <tbody>\n",
              "    <tr>\n",
              "      <th>0</th>\n",
              "      <td>70</td>\n",
              "      <td>80</td>\n",
              "      <td>82</td>\n",
              "      <td>72</td>\n",
              "      <td>58</td>\n",
              "      <td>58</td>\n",
              "      <td>60</td>\n",
              "      <td>63</td>\n",
              "      <td>54</td>\n",
              "      <td>58</td>\n",
              "      <td>60</td>\n",
              "      <td>48</td>\n",
              "      <td>89</td>\n",
              "      <td>115</td>\n",
              "      <td>121</td>\n",
              "      <td>119</td>\n",
              "      <td>115</td>\n",
              "      <td>110</td>\n",
              "      <td>98</td>\n",
              "      <td>91</td>\n",
              "      <td>84</td>\n",
              "      <td>84</td>\n",
              "      <td>90</td>\n",
              "      <td>99</td>\n",
              "      <td>110</td>\n",
              "      <td>126</td>\n",
              "      <td>143</td>\n",
              "      <td>153</td>\n",
              "      <td>158</td>\n",
              "      <td>171</td>\n",
              "      <td>169</td>\n",
              "      <td>172</td>\n",
              "      <td>169</td>\n",
              "      <td>165</td>\n",
              "      <td>129</td>\n",
              "      <td>110</td>\n",
              "      <td>113</td>\n",
              "      <td>107</td>\n",
              "      <td>95</td>\n",
              "      <td>79</td>\n",
              "      <td>...</td>\n",
              "      <td>31</td>\n",
              "      <td>40</td>\n",
              "      <td>46</td>\n",
              "      <td>65</td>\n",
              "      <td>88</td>\n",
              "      <td>108</td>\n",
              "      <td>110</td>\n",
              "      <td>125</td>\n",
              "      <td>149</td>\n",
              "      <td>157</td>\n",
              "      <td>153</td>\n",
              "      <td>162</td>\n",
              "      <td>164</td>\n",
              "      <td>158</td>\n",
              "      <td>159</td>\n",
              "      <td>154</td>\n",
              "      <td>140</td>\n",
              "      <td>78</td>\n",
              "      <td>21</td>\n",
              "      <td>11</td>\n",
              "      <td>61</td>\n",
              "      <td>144</td>\n",
              "      <td>168</td>\n",
              "      <td>173</td>\n",
              "      <td>157</td>\n",
              "      <td>138</td>\n",
              "      <td>150</td>\n",
              "      <td>148</td>\n",
              "      <td>132</td>\n",
              "      <td>159</td>\n",
              "      <td>182</td>\n",
              "      <td>183</td>\n",
              "      <td>136</td>\n",
              "      <td>106</td>\n",
              "      <td>116</td>\n",
              "      <td>95</td>\n",
              "      <td>106</td>\n",
              "      <td>109</td>\n",
              "      <td>82</td>\n",
              "      <td>0</td>\n",
              "    </tr>\n",
              "    <tr>\n",
              "      <th>1</th>\n",
              "      <td>151</td>\n",
              "      <td>150</td>\n",
              "      <td>147</td>\n",
              "      <td>155</td>\n",
              "      <td>148</td>\n",
              "      <td>133</td>\n",
              "      <td>111</td>\n",
              "      <td>140</td>\n",
              "      <td>170</td>\n",
              "      <td>174</td>\n",
              "      <td>182</td>\n",
              "      <td>154</td>\n",
              "      <td>153</td>\n",
              "      <td>164</td>\n",
              "      <td>173</td>\n",
              "      <td>178</td>\n",
              "      <td>185</td>\n",
              "      <td>185</td>\n",
              "      <td>189</td>\n",
              "      <td>187</td>\n",
              "      <td>186</td>\n",
              "      <td>193</td>\n",
              "      <td>194</td>\n",
              "      <td>185</td>\n",
              "      <td>183</td>\n",
              "      <td>186</td>\n",
              "      <td>180</td>\n",
              "      <td>173</td>\n",
              "      <td>166</td>\n",
              "      <td>161</td>\n",
              "      <td>147</td>\n",
              "      <td>133</td>\n",
              "      <td>172</td>\n",
              "      <td>151</td>\n",
              "      <td>114</td>\n",
              "      <td>161</td>\n",
              "      <td>161</td>\n",
              "      <td>146</td>\n",
              "      <td>131</td>\n",
              "      <td>104</td>\n",
              "      <td>...</td>\n",
              "      <td>129</td>\n",
              "      <td>143</td>\n",
              "      <td>135</td>\n",
              "      <td>115</td>\n",
              "      <td>102</td>\n",
              "      <td>111</td>\n",
              "      <td>124</td>\n",
              "      <td>112</td>\n",
              "      <td>109</td>\n",
              "      <td>132</td>\n",
              "      <td>146</td>\n",
              "      <td>135</td>\n",
              "      <td>149</td>\n",
              "      <td>148</td>\n",
              "      <td>143</td>\n",
              "      <td>163</td>\n",
              "      <td>156</td>\n",
              "      <td>159</td>\n",
              "      <td>150</td>\n",
              "      <td>139</td>\n",
              "      <td>128</td>\n",
              "      <td>116</td>\n",
              "      <td>125</td>\n",
              "      <td>133</td>\n",
              "      <td>109</td>\n",
              "      <td>130</td>\n",
              "      <td>147</td>\n",
              "      <td>130</td>\n",
              "      <td>121</td>\n",
              "      <td>105</td>\n",
              "      <td>108</td>\n",
              "      <td>95</td>\n",
              "      <td>108</td>\n",
              "      <td>102</td>\n",
              "      <td>67</td>\n",
              "      <td>171</td>\n",
              "      <td>193</td>\n",
              "      <td>183</td>\n",
              "      <td>184</td>\n",
              "      <td>0</td>\n",
              "    </tr>\n",
              "    <tr>\n",
              "      <th>2</th>\n",
              "      <td>231</td>\n",
              "      <td>212</td>\n",
              "      <td>156</td>\n",
              "      <td>164</td>\n",
              "      <td>174</td>\n",
              "      <td>138</td>\n",
              "      <td>161</td>\n",
              "      <td>173</td>\n",
              "      <td>182</td>\n",
              "      <td>200</td>\n",
              "      <td>106</td>\n",
              "      <td>38</td>\n",
              "      <td>39</td>\n",
              "      <td>74</td>\n",
              "      <td>138</td>\n",
              "      <td>161</td>\n",
              "      <td>164</td>\n",
              "      <td>179</td>\n",
              "      <td>190</td>\n",
              "      <td>201</td>\n",
              "      <td>210</td>\n",
              "      <td>216</td>\n",
              "      <td>220</td>\n",
              "      <td>224</td>\n",
              "      <td>222</td>\n",
              "      <td>218</td>\n",
              "      <td>216</td>\n",
              "      <td>213</td>\n",
              "      <td>217</td>\n",
              "      <td>220</td>\n",
              "      <td>220</td>\n",
              "      <td>218</td>\n",
              "      <td>217</td>\n",
              "      <td>212</td>\n",
              "      <td>174</td>\n",
              "      <td>160</td>\n",
              "      <td>162</td>\n",
              "      <td>160</td>\n",
              "      <td>139</td>\n",
              "      <td>135</td>\n",
              "      <td>...</td>\n",
              "      <td>220</td>\n",
              "      <td>215</td>\n",
              "      <td>207</td>\n",
              "      <td>199</td>\n",
              "      <td>167</td>\n",
              "      <td>108</td>\n",
              "      <td>151</td>\n",
              "      <td>122</td>\n",
              "      <td>88</td>\n",
              "      <td>71</td>\n",
              "      <td>84</td>\n",
              "      <td>120</td>\n",
              "      <td>127</td>\n",
              "      <td>105</td>\n",
              "      <td>76</td>\n",
              "      <td>71</td>\n",
              "      <td>78</td>\n",
              "      <td>90</td>\n",
              "      <td>106</td>\n",
              "      <td>123</td>\n",
              "      <td>146</td>\n",
              "      <td>155</td>\n",
              "      <td>148</td>\n",
              "      <td>130</td>\n",
              "      <td>141</td>\n",
              "      <td>119</td>\n",
              "      <td>69</td>\n",
              "      <td>54</td>\n",
              "      <td>89</td>\n",
              "      <td>104</td>\n",
              "      <td>138</td>\n",
              "      <td>152</td>\n",
              "      <td>122</td>\n",
              "      <td>114</td>\n",
              "      <td>101</td>\n",
              "      <td>97</td>\n",
              "      <td>88</td>\n",
              "      <td>110</td>\n",
              "      <td>152</td>\n",
              "      <td>2</td>\n",
              "    </tr>\n",
              "    <tr>\n",
              "      <th>3</th>\n",
              "      <td>24</td>\n",
              "      <td>32</td>\n",
              "      <td>36</td>\n",
              "      <td>30</td>\n",
              "      <td>32</td>\n",
              "      <td>23</td>\n",
              "      <td>19</td>\n",
              "      <td>20</td>\n",
              "      <td>30</td>\n",
              "      <td>41</td>\n",
              "      <td>21</td>\n",
              "      <td>22</td>\n",
              "      <td>32</td>\n",
              "      <td>34</td>\n",
              "      <td>21</td>\n",
              "      <td>19</td>\n",
              "      <td>43</td>\n",
              "      <td>52</td>\n",
              "      <td>13</td>\n",
              "      <td>26</td>\n",
              "      <td>40</td>\n",
              "      <td>59</td>\n",
              "      <td>65</td>\n",
              "      <td>12</td>\n",
              "      <td>20</td>\n",
              "      <td>63</td>\n",
              "      <td>99</td>\n",
              "      <td>98</td>\n",
              "      <td>98</td>\n",
              "      <td>111</td>\n",
              "      <td>75</td>\n",
              "      <td>62</td>\n",
              "      <td>41</td>\n",
              "      <td>73</td>\n",
              "      <td>118</td>\n",
              "      <td>140</td>\n",
              "      <td>192</td>\n",
              "      <td>186</td>\n",
              "      <td>187</td>\n",
              "      <td>188</td>\n",
              "      <td>...</td>\n",
              "      <td>150</td>\n",
              "      <td>161</td>\n",
              "      <td>167</td>\n",
              "      <td>169</td>\n",
              "      <td>167</td>\n",
              "      <td>162</td>\n",
              "      <td>164</td>\n",
              "      <td>169</td>\n",
              "      <td>181</td>\n",
              "      <td>172</td>\n",
              "      <td>168</td>\n",
              "      <td>169</td>\n",
              "      <td>170</td>\n",
              "      <td>174</td>\n",
              "      <td>179</td>\n",
              "      <td>180</td>\n",
              "      <td>182</td>\n",
              "      <td>196</td>\n",
              "      <td>208</td>\n",
              "      <td>226</td>\n",
              "      <td>230</td>\n",
              "      <td>140</td>\n",
              "      <td>113</td>\n",
              "      <td>114</td>\n",
              "      <td>125</td>\n",
              "      <td>135</td>\n",
              "      <td>141</td>\n",
              "      <td>172</td>\n",
              "      <td>214</td>\n",
              "      <td>174</td>\n",
              "      <td>126</td>\n",
              "      <td>132</td>\n",
              "      <td>132</td>\n",
              "      <td>133</td>\n",
              "      <td>136</td>\n",
              "      <td>139</td>\n",
              "      <td>142</td>\n",
              "      <td>143</td>\n",
              "      <td>142</td>\n",
              "      <td>4</td>\n",
              "    </tr>\n",
              "    <tr>\n",
              "      <th>4</th>\n",
              "      <td>4</td>\n",
              "      <td>0</td>\n",
              "      <td>0</td>\n",
              "      <td>0</td>\n",
              "      <td>0</td>\n",
              "      <td>0</td>\n",
              "      <td>0</td>\n",
              "      <td>0</td>\n",
              "      <td>0</td>\n",
              "      <td>0</td>\n",
              "      <td>0</td>\n",
              "      <td>0</td>\n",
              "      <td>3</td>\n",
              "      <td>15</td>\n",
              "      <td>23</td>\n",
              "      <td>28</td>\n",
              "      <td>48</td>\n",
              "      <td>50</td>\n",
              "      <td>58</td>\n",
              "      <td>84</td>\n",
              "      <td>115</td>\n",
              "      <td>127</td>\n",
              "      <td>137</td>\n",
              "      <td>142</td>\n",
              "      <td>151</td>\n",
              "      <td>156</td>\n",
              "      <td>155</td>\n",
              "      <td>149</td>\n",
              "      <td>153</td>\n",
              "      <td>152</td>\n",
              "      <td>157</td>\n",
              "      <td>160</td>\n",
              "      <td>162</td>\n",
              "      <td>159</td>\n",
              "      <td>145</td>\n",
              "      <td>121</td>\n",
              "      <td>83</td>\n",
              "      <td>58</td>\n",
              "      <td>48</td>\n",
              "      <td>38</td>\n",
              "      <td>...</td>\n",
              "      <td>27</td>\n",
              "      <td>19</td>\n",
              "      <td>13</td>\n",
              "      <td>11</td>\n",
              "      <td>22</td>\n",
              "      <td>37</td>\n",
              "      <td>48</td>\n",
              "      <td>55</td>\n",
              "      <td>67</td>\n",
              "      <td>88</td>\n",
              "      <td>95</td>\n",
              "      <td>112</td>\n",
              "      <td>118</td>\n",
              "      <td>123</td>\n",
              "      <td>141</td>\n",
              "      <td>157</td>\n",
              "      <td>174</td>\n",
              "      <td>181</td>\n",
              "      <td>185</td>\n",
              "      <td>184</td>\n",
              "      <td>179</td>\n",
              "      <td>176</td>\n",
              "      <td>171</td>\n",
              "      <td>155</td>\n",
              "      <td>128</td>\n",
              "      <td>105</td>\n",
              "      <td>10</td>\n",
              "      <td>0</td>\n",
              "      <td>0</td>\n",
              "      <td>12</td>\n",
              "      <td>34</td>\n",
              "      <td>31</td>\n",
              "      <td>31</td>\n",
              "      <td>31</td>\n",
              "      <td>27</td>\n",
              "      <td>31</td>\n",
              "      <td>30</td>\n",
              "      <td>29</td>\n",
              "      <td>30</td>\n",
              "      <td>6</td>\n",
              "    </tr>\n",
              "  </tbody>\n",
              "</table>\n",
              "<p>5 rows × 2305 columns</p>\n",
              "</div>"
            ],
            "text/plain": [
              "     0    1    2    3    4    5    6  ...  2298  2299  2300  2301  2302  2303  class\n",
              "0   70   80   82   72   58   58   60  ...   106   116    95   106   109    82      0\n",
              "1  151  150  147  155  148  133  111  ...   102    67   171   193   183   184      0\n",
              "2  231  212  156  164  174  138  161  ...   114   101    97    88   110   152      2\n",
              "3   24   32   36   30   32   23   19  ...   133   136   139   142   143   142      4\n",
              "4    4    0    0    0    0    0    0  ...    31    27    31    30    29    30      6\n",
              "\n",
              "[5 rows x 2305 columns]"
            ]
          },
          "metadata": {
            "tags": []
          },
          "execution_count": 13
        }
      ]
    },
    {
      "cell_type": "code",
      "metadata": {
        "id": "wUX_C3l4FZcZ",
        "colab_type": "code",
        "colab": {}
      },
      "source": [
        "temp = np.array(images_df.iloc[15,:2304]).reshape(48,48)"
      ],
      "execution_count": null,
      "outputs": []
    },
    {
      "cell_type": "code",
      "metadata": {
        "id": "buu_U_wPGHp1",
        "colab_type": "code",
        "colab": {
          "base_uri": "https://localhost:8080/",
          "height": 284
        },
        "outputId": "ecc7af58-8612-455b-cb85-35fa028eb1ec"
      },
      "source": [
        "plt.imshow(temp)"
      ],
      "execution_count": null,
      "outputs": [
        {
          "output_type": "execute_result",
          "data": {
            "text/plain": [
              "<matplotlib.image.AxesImage at 0x7f45b027b1d0>"
            ]
          },
          "metadata": {
            "tags": []
          },
          "execution_count": 68
        },
        {
          "output_type": "display_data",
          "data": {
            "image/png": "[encoded data removed]",
            "text/plain": [
              "<Figure size 432x288 with 1 Axes>"
            ]
          },
          "metadata": {
            "tags": [],
            "needs_background": "light"
          }
        }
      ]
    },
    {
      "cell_type": "code",
      "metadata": {
        "id": "NgHiKqv-GJZe",
        "colab_type": "code",
        "colab": {
          "base_uri": "https://localhost:8080/",
          "height": 35
        },
        "outputId": "5a4329cc-b096-43c5-8ab5-28fe1be4ff9f"
      },
      "source": [
        "'''for i in range(10):\n",
        "  temp = np.array(images_df.iloc[i,:2304]).reshape(48,48)\n",
        "  plt.imshow(temp)\n",
        "  plt.show()'''"
      ],
      "execution_count": null,
      "outputs": [
        {
          "output_type": "execute_result",
          "data": {
            "application/vnd.google.colaboratory.intrinsic+json": {
              "type": "string"
            },
            "text/plain": [
              "'for i in range(10):\\n  temp = np.array(images_df.iloc[i,:2304]).reshape(48,48)\\n  plt.imshow(temp)\\n  plt.show()'"
            ]
          },
          "metadata": {
            "tags": []
          },
          "execution_count": 16
        }
      ]
    },
    {
      "cell_type": "code",
      "metadata": {
        "id": "o_2jatCbH5vY",
        "colab_type": "code",
        "colab": {}
      },
      "source": [
        "from sklearn.model_selection import train_test_split\n",
        "\n",
        "\n",
        "X = images_df.drop(['class'],axis=1)/255.0\n",
        "y=images_df['class']\n",
        "xtrval ,xts,ytrval,yts = train_test_split(X,y,test_size=0.2,random_state= 2)"
      ],
      "execution_count": null,
      "outputs": []
    },
    {
      "cell_type": "code",
      "metadata": {
        "id": "RleStkmfpfgh",
        "colab_type": "code",
        "colab": {
          "base_uri": "https://localhost:8080/",
          "height": 34
        },
        "outputId": "bb575cbe-6728-4880-f2f6-966037e3332b"
      },
      "source": [
        "yts.shape"
      ],
      "execution_count": null,
      "outputs": [
        {
          "output_type": "execute_result",
          "data": {
            "text/plain": [
              "(7178,)"
            ]
          },
          "metadata": {
            "tags": []
          },
          "execution_count": 18
        }
      ]
    },
    {
      "cell_type": "code",
      "metadata": {
        "id": "Kfj-x-Y7oBCp",
        "colab_type": "code",
        "colab": {}
      },
      "source": [
        "xtr,xval,ytr,yval = train_test_split(xtrval,ytrval,test_size=0.2,random_state= 2)"
      ],
      "execution_count": null,
      "outputs": []
    },
    {
      "cell_type": "code",
      "metadata": {
        "id": "PW6IG7i8pqxD",
        "colab_type": "code",
        "colab": {}
      },
      "source": [
        ""
      ],
      "execution_count": null,
      "outputs": []
    },
    {
      "cell_type": "markdown",
      "metadata": {
        "id": "Y8WpvFMgccSv",
        "colab_type": "text"
      },
      "source": [
        "**Creating Model**"
      ]
    },
    {
      "cell_type": "code",
      "metadata": {
        "id": "_WUF-w3Sp29j",
        "colab_type": "code",
        "colab": {}
      },
      "source": [
        "model = Sequential()\n",
        "\n",
        "model.add(layers.Conv2D(filters=32,kernel_size = (2,2),input_shape=(48,48,1)))\n",
        "model.add(layers.MaxPool2D((2,2)))\n",
        "\n",
        "model.add(layers.Conv2D(filters=64,kernel_size = (2,2),input_shape=(48,48,1)))\n",
        "model.add(layers.MaxPool2D((2,2)))\n",
        "\n",
        "model.add(layers.Conv2D(filters=128,kernel_size = (2,2),input_shape=(48,48,1)))\n",
        "\n",
        "model.add(layers.MaxPool2D((2,2)))\n",
        "model.add(layers.Conv2D(filters=256,kernel_size = (2,2),input_shape=(48,48,1)))\n",
        "\n",
        "model.add(layers.MaxPool2D((2,2)))\n",
        "\n",
        "\n",
        "model.add(layers.Flatten())\n",
        "\n",
        "model.add(layers.Dense(1000,activation='relu'))\n",
        "model.add(layers.Dense(1000,activation='relu'))\n",
        "\n",
        "model.add(layers.Dense(500,activation='relu'))\n",
        "model.add(layers.Dense(200,activation='relu'))\n",
        "model.add(layers.Dense(200,activation='relu'))\n",
        "\n",
        "model.add(layers.Dense(200,activation='relu'))\n",
        "\n",
        "model.add(layers.Dense(7,activation='softmax'))\n",
        "\n"
      ],
      "execution_count": null,
      "outputs": []
    },
    {
      "cell_type": "code",
      "metadata": {
        "id": "RDe0EQ8BsyV_",
        "colab_type": "code",
        "colab": {
          "base_uri": "https://localhost:8080/",
          "height": 689
        },
        "outputId": "722e4b96-7aa7-4c50-caa8-07651c5a3888"
      },
      "source": [
        "model.summary()"
      ],
      "execution_count": null,
      "outputs": [
        {
          "output_type": "stream",
          "text": [
            "Model: \"sequential\"\n",
            "_________________________________________________________________\n",
            "Layer (type)                 Output Shape              Param #   \n",
            "=================================================================\n",
            "conv2d (Conv2D)              (None, 47, 47, 32)        160       \n",
            "_________________________________________________________________\n",
            "max_pooling2d (MaxPooling2D) (None, 23, 23, 32)        0         \n",
            "_________________________________________________________________\n",
            "conv2d_1 (Conv2D)            (None, 22, 22, 64)        8256      \n",
            "_________________________________________________________________\n",
            "max_pooling2d_1 (MaxPooling2 (None, 11, 11, 64)        0         \n",
            "_________________________________________________________________\n",
            "conv2d_2 (Conv2D)            (None, 10, 10, 128)       32896     \n",
            "_________________________________________________________________\n",
            "max_pooling2d_2 (MaxPooling2 (None, 5, 5, 128)         0         \n",
            "_________________________________________________________________\n",
            "conv2d_3 (Conv2D)            (None, 4, 4, 256)         131328    \n",
            "_________________________________________________________________\n",
            "max_pooling2d_3 (MaxPooling2 (None, 2, 2, 256)         0         \n",
            "_________________________________________________________________\n",
            "flatten (Flatten)            (None, 1024)              0         \n",
            "_________________________________________________________________\n",
            "dense (Dense)                (None, 1000)              1025000   \n",
            "_________________________________________________________________\n",
            "dense_1 (Dense)              (None, 1000)              1001000   \n",
            "_________________________________________________________________\n",
            "dense_2 (Dense)              (None, 500)               500500    \n",
            "_________________________________________________________________\n",
            "dense_3 (Dense)              (None, 200)               100200    \n",
            "_________________________________________________________________\n",
            "dense_4 (Dense)              (None, 200)               40200     \n",
            "_________________________________________________________________\n",
            "dense_5 (Dense)              (None, 200)               40200     \n",
            "_________________________________________________________________\n",
            "dense_6 (Dense)              (None, 7)                 1407      \n",
            "=================================================================\n",
            "Total params: 2,881,147\n",
            "Trainable params: 2,881,147\n",
            "Non-trainable params: 0\n",
            "_________________________________________________________________\n"
          ],
          "name": "stdout"
        }
      ]
    },
    {
      "cell_type": "code",
      "metadata": {
        "id": "1lNuzsd05JXX",
        "colab_type": "code",
        "colab": {}
      },
      "source": [
        "xtr=np.array(xtr).reshape(22967,48,48,1)\n",
        "xval= np.array(xval).reshape(5742,48,48,1)\n",
        "yval=np.array(yval).reshape(5742,)\n",
        "ytr=np.array(ytr).reshape(22967,)"
      ],
      "execution_count": null,
      "outputs": []
    },
    {
      "cell_type": "code",
      "metadata": {
        "id": "0aQ9zy8u5JfN",
        "colab_type": "code",
        "colab": {
          "base_uri": "https://localhost:8080/",
          "height": 84
        },
        "outputId": "8e09f9aa-e5ea-430e-bf04-4bf1201bbd27"
      },
      "source": [
        "print(xval.shape)\n",
        "print(yval.shape)\n",
        "print(xtr.shape)\n",
        "print(ytr.shape)"
      ],
      "execution_count": null,
      "outputs": [
        {
          "output_type": "stream",
          "text": [
            "(5742, 48, 48, 1)\n",
            "(5742,)\n",
            "(22967, 48, 48, 1)\n",
            "(22967,)\n"
          ],
          "name": "stdout"
        }
      ]
    },
    {
      "cell_type": "code",
      "metadata": {
        "id": "ENNziJzTCqY1",
        "colab_type": "code",
        "colab": {}
      },
      "source": [
        ""
      ],
      "execution_count": null,
      "outputs": []
    },
    {
      "cell_type": "markdown",
      "metadata": {
        "id": "_As8nYeEchpn",
        "colab_type": "text"
      },
      "source": [
        "**Compiling - Model Training**"
      ]
    },
    {
      "cell_type": "code",
      "metadata": {
        "id": "CyV0v7rns51O",
        "colab_type": "code",
        "colab": {
          "base_uri": "https://localhost:8080/",
          "height": 655
        },
        "outputId": "104b0905-595c-4ffa-b9bd-d2ad3a6c0d3a"
      },
      "source": [
        "model.compile(loss='SparseCategoricalCrossentropy',optimizer='adam',metrics=['accuracy'])\n",
        "\n",
        "best = keras.callbacks.ModelCheckpoint('model.h5',best_model_only = True)\n",
        "early_stop = keras.callbacks.EarlyStopping(patience=15,\n",
        "                                                  restore_best_weights=True)\n",
        "\n",
        "model_hist = model.fit(xtr,ytr,epochs=200,validation_data=(xval,yval),callbacks = [best,early_stop])"
      ],
      "execution_count": null,
      "outputs": [
        {
          "output_type": "stream",
          "text": [
            "Epoch 1/200\n",
            "718/718 [==============================] - 9s 12ms/step - loss: 1.6631 - accuracy: 0.3265 - val_loss: 1.4865 - val_accuracy: 0.4157\n",
            "Epoch 2/200\n",
            "718/718 [==============================] - 8s 11ms/step - loss: 1.4358 - accuracy: 0.4358 - val_loss: 1.3831 - val_accuracy: 0.4667\n",
            "Epoch 3/200\n",
            "718/718 [==============================] - 8s 11ms/step - loss: 1.2876 - accuracy: 0.5059 - val_loss: 1.2754 - val_accuracy: 0.5207\n",
            "Epoch 4/200\n",
            "718/718 [==============================] - 8s 11ms/step - loss: 1.1709 - accuracy: 0.5537 - val_loss: 1.2273 - val_accuracy: 0.5282\n",
            "Epoch 5/200\n",
            "718/718 [==============================] - 8s 11ms/step - loss: 1.0417 - accuracy: 0.6047 - val_loss: 1.2476 - val_accuracy: 0.5430\n",
            "Epoch 6/200\n",
            "718/718 [==============================] - 8s 11ms/step - loss: 0.9178 - accuracy: 0.6616 - val_loss: 1.2628 - val_accuracy: 0.5467\n",
            "Epoch 7/200\n",
            "718/718 [==============================] - 8s 11ms/step - loss: 0.7775 - accuracy: 0.7154 - val_loss: 1.3449 - val_accuracy: 0.5517\n",
            "Epoch 8/200\n",
            "718/718 [==============================] - 9s 12ms/step - loss: 0.6301 - accuracy: 0.7747 - val_loss: 1.4226 - val_accuracy: 0.5352\n",
            "Epoch 9/200\n",
            "718/718 [==============================] - 8s 12ms/step - loss: 0.5130 - accuracy: 0.8183 - val_loss: 1.6468 - val_accuracy: 0.5482\n",
            "Epoch 10/200\n",
            "718/718 [==============================] - 8s 11ms/step - loss: 0.4131 - accuracy: 0.8569 - val_loss: 1.7397 - val_accuracy: 0.5571\n",
            "Epoch 11/200\n",
            "718/718 [==============================] - 8s 11ms/step - loss: 0.3238 - accuracy: 0.8916 - val_loss: 1.8069 - val_accuracy: 0.5406\n",
            "Epoch 12/200\n",
            "718/718 [==============================] - 8s 11ms/step - loss: 0.2643 - accuracy: 0.9094 - val_loss: 2.0533 - val_accuracy: 0.5451\n",
            "Epoch 13/200\n",
            "718/718 [==============================] - 8s 11ms/step - loss: 0.2403 - accuracy: 0.9205 - val_loss: 2.2586 - val_accuracy: 0.5472\n",
            "Epoch 14/200\n",
            "718/718 [==============================] - 8s 11ms/step - loss: 0.1948 - accuracy: 0.9357 - val_loss: 2.5737 - val_accuracy: 0.5416\n",
            "Epoch 15/200\n",
            "718/718 [==============================] - 8s 11ms/step - loss: 0.1653 - accuracy: 0.9481 - val_loss: 2.3824 - val_accuracy: 0.5507\n",
            "Epoch 16/200\n",
            "718/718 [==============================] - 8s 11ms/step - loss: 0.1659 - accuracy: 0.9486 - val_loss: 2.7598 - val_accuracy: 0.5583\n",
            "Epoch 17/200\n",
            "718/718 [==============================] - 8s 11ms/step - loss: 0.1506 - accuracy: 0.9518 - val_loss: 2.4676 - val_accuracy: 0.5420\n",
            "Epoch 18/200\n",
            "718/718 [==============================] - 8s 11ms/step - loss: 0.1403 - accuracy: 0.9553 - val_loss: 2.6668 - val_accuracy: 0.5430\n",
            "Epoch 19/200\n",
            "718/718 [==============================] - 8s 11ms/step - loss: 0.1326 - accuracy: 0.9578 - val_loss: 2.4999 - val_accuracy: 0.5298\n"
          ],
          "name": "stdout"
        }
      ]
    },
    {
      "cell_type": "code",
      "metadata": {
        "id": "cIar1Qlu4r99",
        "colab_type": "code",
        "colab": {
          "base_uri": "https://localhost:8080/",
          "height": 850
        },
        "outputId": "0d10d610-579a-482a-febe-71d9422ea903"
      },
      "source": [
        "pd.DataFrame(model_hist.history).plot(figsize=(20,15))"
      ],
      "execution_count": null,
      "outputs": [
        {
          "output_type": "execute_result",
          "data": {
            "text/plain": [
              "<matplotlib.axes._subplots.AxesSubplot at 0x7f46003f49b0>"
            ]
          },
          "metadata": {
            "tags": []
          },
          "execution_count": 26
        },
        {
          "output_type": "display_data",
          "data": {
            "image/png": "[encoded data removed]",
            "text/plain": [
              "<Figure size 1440x1080 with 1 Axes>"
            ]
          },
          "metadata": {
            "tags": [],
            "needs_background": "light"
          }
        }
      ]
    },
    {
      "cell_type": "code",
      "metadata": {
        "id": "vFpdLHqs4sAS",
        "colab_type": "code",
        "colab": {}
      },
      "source": [
        "#Save Model in h5 file"
      ],
      "execution_count": null,
      "outputs": []
    },
    {
      "cell_type": "code",
      "metadata": {
        "id": "o7v3gs-F4sEu",
        "colab_type": "code",
        "colab": {}
      },
      "source": [
        "model.save(\"model.h5\")"
      ],
      "execution_count": null,
      "outputs": []
    },
    {
      "cell_type": "code",
      "metadata": {
        "id": "aYi3G-Km4sIV",
        "colab_type": "code",
        "colab": {}
      },
      "source": [
        "# Load Model from that file"
      ],
      "execution_count": null,
      "outputs": []
    },
    {
      "cell_type": "code",
      "metadata": {
        "id": "Er01a3Gq4sC4",
        "colab_type": "code",
        "colab": {}
      },
      "source": [
        "model = keras.models.load_model('model.h5')"
      ],
      "execution_count": null,
      "outputs": []
    },
    {
      "cell_type": "code",
      "metadata": {
        "id": "GeLCY8sXuZA5",
        "colab_type": "code",
        "colab": {}
      },
      "source": [
        ""
      ],
      "execution_count": null,
      "outputs": []
    },
    {
      "cell_type": "code",
      "metadata": {
        "id": "h6NZ5PyyPGtd",
        "colab_type": "code",
        "colab": {}
      },
      "source": [
        "face_cascade = cv2.CascadeClassifier('haarcascade_frontalface_default.xml')\n",
        "\n",
        "img = cv2.imread('/content/anger.jpg',0)\n",
        "faces = face_cascade.detectMultiScale(img, 1.3, 5)\n",
        "faces\n",
        "x1=faces[0][0]\n",
        "y1=faces[0][1]\n",
        "x2=x1+faces[0][2]\n",
        "y2=y1+faces[0][3]"
      ],
      "execution_count": null,
      "outputs": []
    },
    {
      "cell_type": "code",
      "metadata": {
        "id": "r5eIALz-HfNy",
        "colab_type": "code",
        "colab": {
          "base_uri": "https://localhost:8080/",
          "height": 257
        },
        "outputId": "7f27b221-2ea5-48d7-9a02-b744173f827a"
      },
      "source": [
        "x=cv2.imread('/content/e.jpg',0)\n",
        "\n",
        "plt.imshow(x)"
      ],
      "execution_count": null,
      "outputs": [
        {
          "output_type": "execute_result",
          "data": {
            "text/plain": [
              "<matplotlib.image.AxesImage at 0x7fcb60f306d8>"
            ]
          },
          "metadata": {
            "tags": []
          },
          "execution_count": 29
        },
        {
          "output_type": "display_data",
          "data": {
            "image/png": "[encoded data removed]",
            "text/plain": [
              "<Figure size 432x288 with 1 Axes>"
            ]
          },
          "metadata": {
            "tags": [],
            "needs_background": "light"
          }
        }
      ]
    },
    {
      "cell_type": "code",
      "metadata": {
        "id": "4i3q-aKnHrqb",
        "colab_type": "code",
        "colab": {}
      },
      "source": [
        "y=cv2.resize(img[y1:y2,x1:x2],(48,48))"
      ],
      "execution_count": null,
      "outputs": []
    },
    {
      "cell_type": "code",
      "metadata": {
        "id": "yz7x88J5H9b2",
        "colab_type": "code",
        "colab": {
          "base_uri": "https://localhost:8080/",
          "height": 284
        },
        "outputId": "dc214765-740d-4c4a-d4d4-c07c940b77a7"
      },
      "source": [
        "plt.imshow(y)"
      ],
      "execution_count": null,
      "outputs": [
        {
          "output_type": "execute_result",
          "data": {
            "text/plain": [
              "<matplotlib.image.AxesImage at 0x7fcb60e939e8>"
            ]
          },
          "metadata": {
            "tags": []
          },
          "execution_count": 31
        },
        {
          "output_type": "display_data",
          "data": {
            "image/png": "[encoded data removed]",
            "text/plain": [
              "<Figure size 432x288 with 1 Axes>"
            ]
          },
          "metadata": {
            "tags": [],
            "needs_background": "light"
          }
        }
      ]
    },
    {
      "cell_type": "code",
      "metadata": {
        "id": "whYS8OqjIxvZ",
        "colab_type": "code",
        "colab": {
          "base_uri": "https://localhost:8080/",
          "height": 34
        },
        "outputId": "617286c0-eca0-48e5-b0e1-58b4474fbc21"
      },
      "source": [
        "#y.resize(48,48)\n",
        "y.shape"
      ],
      "execution_count": null,
      "outputs": [
        {
          "output_type": "execute_result",
          "data": {
            "text/plain": [
              "(48, 48)"
            ]
          },
          "metadata": {
            "tags": []
          },
          "execution_count": 32
        }
      ]
    },
    {
      "cell_type": "code",
      "metadata": {
        "id": "m4dUPNj6KPiR",
        "colab_type": "code",
        "colab": {}
      },
      "source": [
        "y=y.reshape(1,48,48,1)"
      ],
      "execution_count": null,
      "outputs": []
    },
    {
      "cell_type": "code",
      "metadata": {
        "id": "ReEBcgfmKaPS",
        "colab_type": "code",
        "colab": {
          "base_uri": "https://localhost:8080/",
          "height": 87
        },
        "outputId": "ef907f32-52de-4328-a6d9-9aed8d26d862"
      },
      "source": [
        "k = model.predict_classes(y)"
      ],
      "execution_count": null,
      "outputs": [
        {
          "output_type": "stream",
          "text": [
            "WARNING:tensorflow:From <ipython-input-15-b7913a18bd30>:1: Sequential.predict_classes (from tensorflow.python.keras.engine.sequential) is deprecated and will be removed after 2021-01-01.\n",
            "Instructions for updating:\n",
            "Please use instead:* `np.argmax(model.predict(x), axis=-1)`,   if your model does multi-class classification   (e.g. if it uses a `softmax` last-layer activation).* `(model.predict(x) > 0.5).astype(\"int32\")`,   if your model does binary classification   (e.g. if it uses a `sigmoid` last-layer activation).\n"
          ],
          "name": "stdout"
        }
      ]
    },
    {
      "cell_type": "code",
      "metadata": {
        "id": "ugs4jbq-K3QY",
        "colab_type": "code",
        "colab": {
          "base_uri": "https://localhost:8080/",
          "height": 34
        },
        "outputId": "a0c5db00-b3f5-476d-a906-39d615b2ffbd"
      },
      "source": [
        "k[0]"
      ],
      "execution_count": null,
      "outputs": [
        {
          "output_type": "execute_result",
          "data": {
            "text/plain": [
              "2"
            ]
          },
          "metadata": {
            "tags": []
          },
          "execution_count": 16
        }
      ]
    },
    {
      "cell_type": "code",
      "metadata": {
        "id": "lkpKEamsFals",
        "colab_type": "code",
        "colab": {}
      },
      "source": [
        "l = ['Anger', 'Disgust', 'Fear', 'Happy', 'Sad', 'Surprise', 'Neutral']"
      ],
      "execution_count": null,
      "outputs": []
    },
    {
      "cell_type": "code",
      "metadata": {
        "id": "Clrgw8kVFqFq",
        "colab_type": "code",
        "colab": {
          "base_uri": "https://localhost:8080/",
          "height": 35
        },
        "outputId": "d8ef6ee1-77dd-4cf7-b5e6-445fbb3b72d4"
      },
      "source": [
        "l[k[0]]"
      ],
      "execution_count": null,
      "outputs": [
        {
          "output_type": "execute_result",
          "data": {
            "application/vnd.google.colaboratory.intrinsic+json": {
              "type": "string"
            },
            "text/plain": [
              "'Fear'"
            ]
          },
          "metadata": {
            "tags": []
          },
          "execution_count": 18
        }
      ]
    },
    {
      "cell_type": "code",
      "metadata": {
        "id": "Kuo9DCoCFs04",
        "colab_type": "code",
        "colab": {}
      },
      "source": [
        ""
      ],
      "execution_count": null,
      "outputs": []
    }
  ]
}